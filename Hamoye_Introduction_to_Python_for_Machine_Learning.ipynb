{
  "nbformat": 4,
  "nbformat_minor": 0,
  "metadata": {
    "colab": {
      "name": "Hamoye Introduction to Python for Machine Learning.ipynb",
      "provenance": []
    },
    "kernelspec": {
      "name": "python3",
      "display_name": "Python 3"
    },
    "language_info": {
      "name": "python"
    }
  },
  "cells": [
    {
      "cell_type": "code",
      "execution_count": 1,
      "metadata": {
        "id": "uVYlI5d-13Mw"
      },
      "outputs": [],
      "source": [
        "import pandas as pd\n",
        "import numpy as np\n",
        "import seaborn as sns"
      ]
    },
    {
      "cell_type": "code",
      "source": [
        "#renamaing the sheet (FoodBalanceSheets_E_Africa_NOFLAG.csv) to Foodbalancesheet."
      ],
      "metadata": {
        "id": "2_C_nTEY2n9U"
      },
      "execution_count": 2,
      "outputs": []
    },
    {
      "cell_type": "code",
      "source": [
        "df=pd.read_csv('/content/FoodBalanceSheet.csv' , encoding='latin-1')"
      ],
      "metadata": {
        "id": "coIkglyh2_zJ"
      },
      "execution_count": 3,
      "outputs": []
    },
    {
      "cell_type": "code",
      "source": [
        "df"
      ],
      "metadata": {
        "colab": {
          "base_uri": "https://localhost:8080/",
          "height": 468
        },
        "id": "KJyb1FJi3JW3",
        "outputId": "74a5b59b-2d89-42d1-a899-2e2b4ae4e308"
      },
      "execution_count": 4,
      "outputs": [
        {
          "output_type": "execute_result",
          "data": {
            "text/plain": [
              "       Area Code      Area  Item Code           Item  Element Code  \\\n",
              "0              4   Algeria       2501     Population           511   \n",
              "1              4   Algeria       2501     Population          5301   \n",
              "2              4   Algeria       2901    Grand Total           664   \n",
              "3              4   Algeria       2901    Grand Total           674   \n",
              "4              4   Algeria       2901    Grand Total           684   \n",
              "...          ...       ...        ...            ...           ...   \n",
              "60938        181  Zimbabwe       2899  Miscellaneous          5142   \n",
              "60939        181  Zimbabwe       2899  Miscellaneous           645   \n",
              "60940        181  Zimbabwe       2899  Miscellaneous           664   \n",
              "60941        181  Zimbabwe       2899  Miscellaneous           674   \n",
              "60942        181  Zimbabwe       2899  Miscellaneous           684   \n",
              "\n",
              "                                      Element             Unit     Y2014  \\\n",
              "0               Total Population - Both sexes     1000 persons  38924.00   \n",
              "1                    Domestic supply quantity      1000 tonnes      0.00   \n",
              "2               Food supply (kcal/capita/day)  kcal/capita/day   3377.00   \n",
              "3      Protein supply quantity (g/capita/day)     g/capita/day     94.90   \n",
              "4          Fat supply quantity (g/capita/day)     g/capita/day     80.06   \n",
              "...                                       ...              ...       ...   \n",
              "60938                                    Food      1000 tonnes     42.00   \n",
              "60939     Food supply quantity (kg/capita/yr)               kg      3.06   \n",
              "60940           Food supply (kcal/capita/day)  kcal/capita/day      3.00   \n",
              "60941  Protein supply quantity (g/capita/day)     g/capita/day      0.10   \n",
              "60942      Fat supply quantity (g/capita/day)     g/capita/day      0.04   \n",
              "\n",
              "          Y2015     Y2016     Y2017     Y2018  \n",
              "0      39728.00  40551.00  41389.00  42228.00  \n",
              "1          0.00      0.00      0.00      0.00  \n",
              "2       3379.00   3372.00   3341.00   3322.00  \n",
              "3         94.35     94.72     92.82     91.83  \n",
              "4         79.36     77.40     80.19     77.28  \n",
              "...         ...       ...       ...       ...  \n",
              "60938     46.00     33.00     19.00     16.00  \n",
              "60939      3.33      2.35      1.33      1.08  \n",
              "60940      4.00      3.00      1.00      1.00  \n",
              "60941      0.11      0.08      0.04      0.04  \n",
              "60942      0.05      0.03      0.02      0.01  \n",
              "\n",
              "[60943 rows x 12 columns]"
            ],
            "text/html": [
              "\n",
              "  <div id=\"df-cf6efd1d-4c6a-4ee4-bd86-f6d78c81b909\">\n",
              "    <div class=\"colab-df-container\">\n",
              "      <div>\n",
              "<style scoped>\n",
              "    .dataframe tbody tr th:only-of-type {\n",
              "        vertical-align: middle;\n",
              "    }\n",
              "\n",
              "    .dataframe tbody tr th {\n",
              "        vertical-align: top;\n",
              "    }\n",
              "\n",
              "    .dataframe thead th {\n",
              "        text-align: right;\n",
              "    }\n",
              "</style>\n",
              "<table border=\"1\" class=\"dataframe\">\n",
              "  <thead>\n",
              "    <tr style=\"text-align: right;\">\n",
              "      <th></th>\n",
              "      <th>Area Code</th>\n",
              "      <th>Area</th>\n",
              "      <th>Item Code</th>\n",
              "      <th>Item</th>\n",
              "      <th>Element Code</th>\n",
              "      <th>Element</th>\n",
              "      <th>Unit</th>\n",
              "      <th>Y2014</th>\n",
              "      <th>Y2015</th>\n",
              "      <th>Y2016</th>\n",
              "      <th>Y2017</th>\n",
              "      <th>Y2018</th>\n",
              "    </tr>\n",
              "  </thead>\n",
              "  <tbody>\n",
              "    <tr>\n",
              "      <th>0</th>\n",
              "      <td>4</td>\n",
              "      <td>Algeria</td>\n",
              "      <td>2501</td>\n",
              "      <td>Population</td>\n",
              "      <td>511</td>\n",
              "      <td>Total Population - Both sexes</td>\n",
              "      <td>1000 persons</td>\n",
              "      <td>38924.00</td>\n",
              "      <td>39728.00</td>\n",
              "      <td>40551.00</td>\n",
              "      <td>41389.00</td>\n",
              "      <td>42228.00</td>\n",
              "    </tr>\n",
              "    <tr>\n",
              "      <th>1</th>\n",
              "      <td>4</td>\n",
              "      <td>Algeria</td>\n",
              "      <td>2501</td>\n",
              "      <td>Population</td>\n",
              "      <td>5301</td>\n",
              "      <td>Domestic supply quantity</td>\n",
              "      <td>1000 tonnes</td>\n",
              "      <td>0.00</td>\n",
              "      <td>0.00</td>\n",
              "      <td>0.00</td>\n",
              "      <td>0.00</td>\n",
              "      <td>0.00</td>\n",
              "    </tr>\n",
              "    <tr>\n",
              "      <th>2</th>\n",
              "      <td>4</td>\n",
              "      <td>Algeria</td>\n",
              "      <td>2901</td>\n",
              "      <td>Grand Total</td>\n",
              "      <td>664</td>\n",
              "      <td>Food supply (kcal/capita/day)</td>\n",
              "      <td>kcal/capita/day</td>\n",
              "      <td>3377.00</td>\n",
              "      <td>3379.00</td>\n",
              "      <td>3372.00</td>\n",
              "      <td>3341.00</td>\n",
              "      <td>3322.00</td>\n",
              "    </tr>\n",
              "    <tr>\n",
              "      <th>3</th>\n",
              "      <td>4</td>\n",
              "      <td>Algeria</td>\n",
              "      <td>2901</td>\n",
              "      <td>Grand Total</td>\n",
              "      <td>674</td>\n",
              "      <td>Protein supply quantity (g/capita/day)</td>\n",
              "      <td>g/capita/day</td>\n",
              "      <td>94.90</td>\n",
              "      <td>94.35</td>\n",
              "      <td>94.72</td>\n",
              "      <td>92.82</td>\n",
              "      <td>91.83</td>\n",
              "    </tr>\n",
              "    <tr>\n",
              "      <th>4</th>\n",
              "      <td>4</td>\n",
              "      <td>Algeria</td>\n",
              "      <td>2901</td>\n",
              "      <td>Grand Total</td>\n",
              "      <td>684</td>\n",
              "      <td>Fat supply quantity (g/capita/day)</td>\n",
              "      <td>g/capita/day</td>\n",
              "      <td>80.06</td>\n",
              "      <td>79.36</td>\n",
              "      <td>77.40</td>\n",
              "      <td>80.19</td>\n",
              "      <td>77.28</td>\n",
              "    </tr>\n",
              "    <tr>\n",
              "      <th>...</th>\n",
              "      <td>...</td>\n",
              "      <td>...</td>\n",
              "      <td>...</td>\n",
              "      <td>...</td>\n",
              "      <td>...</td>\n",
              "      <td>...</td>\n",
              "      <td>...</td>\n",
              "      <td>...</td>\n",
              "      <td>...</td>\n",
              "      <td>...</td>\n",
              "      <td>...</td>\n",
              "      <td>...</td>\n",
              "    </tr>\n",
              "    <tr>\n",
              "      <th>60938</th>\n",
              "      <td>181</td>\n",
              "      <td>Zimbabwe</td>\n",
              "      <td>2899</td>\n",
              "      <td>Miscellaneous</td>\n",
              "      <td>5142</td>\n",
              "      <td>Food</td>\n",
              "      <td>1000 tonnes</td>\n",
              "      <td>42.00</td>\n",
              "      <td>46.00</td>\n",
              "      <td>33.00</td>\n",
              "      <td>19.00</td>\n",
              "      <td>16.00</td>\n",
              "    </tr>\n",
              "    <tr>\n",
              "      <th>60939</th>\n",
              "      <td>181</td>\n",
              "      <td>Zimbabwe</td>\n",
              "      <td>2899</td>\n",
              "      <td>Miscellaneous</td>\n",
              "      <td>645</td>\n",
              "      <td>Food supply quantity (kg/capita/yr)</td>\n",
              "      <td>kg</td>\n",
              "      <td>3.06</td>\n",
              "      <td>3.33</td>\n",
              "      <td>2.35</td>\n",
              "      <td>1.33</td>\n",
              "      <td>1.08</td>\n",
              "    </tr>\n",
              "    <tr>\n",
              "      <th>60940</th>\n",
              "      <td>181</td>\n",
              "      <td>Zimbabwe</td>\n",
              "      <td>2899</td>\n",
              "      <td>Miscellaneous</td>\n",
              "      <td>664</td>\n",
              "      <td>Food supply (kcal/capita/day)</td>\n",
              "      <td>kcal/capita/day</td>\n",
              "      <td>3.00</td>\n",
              "      <td>4.00</td>\n",
              "      <td>3.00</td>\n",
              "      <td>1.00</td>\n",
              "      <td>1.00</td>\n",
              "    </tr>\n",
              "    <tr>\n",
              "      <th>60941</th>\n",
              "      <td>181</td>\n",
              "      <td>Zimbabwe</td>\n",
              "      <td>2899</td>\n",
              "      <td>Miscellaneous</td>\n",
              "      <td>674</td>\n",
              "      <td>Protein supply quantity (g/capita/day)</td>\n",
              "      <td>g/capita/day</td>\n",
              "      <td>0.10</td>\n",
              "      <td>0.11</td>\n",
              "      <td>0.08</td>\n",
              "      <td>0.04</td>\n",
              "      <td>0.04</td>\n",
              "    </tr>\n",
              "    <tr>\n",
              "      <th>60942</th>\n",
              "      <td>181</td>\n",
              "      <td>Zimbabwe</td>\n",
              "      <td>2899</td>\n",
              "      <td>Miscellaneous</td>\n",
              "      <td>684</td>\n",
              "      <td>Fat supply quantity (g/capita/day)</td>\n",
              "      <td>g/capita/day</td>\n",
              "      <td>0.04</td>\n",
              "      <td>0.05</td>\n",
              "      <td>0.03</td>\n",
              "      <td>0.02</td>\n",
              "      <td>0.01</td>\n",
              "    </tr>\n",
              "  </tbody>\n",
              "</table>\n",
              "<p>60943 rows × 12 columns</p>\n",
              "</div>\n",
              "      <button class=\"colab-df-convert\" onclick=\"convertToInteractive('df-cf6efd1d-4c6a-4ee4-bd86-f6d78c81b909')\"\n",
              "              title=\"Convert this dataframe to an interactive table.\"\n",
              "              style=\"display:none;\">\n",
              "        \n",
              "  <svg xmlns=\"http://www.w3.org/2000/svg\" height=\"24px\"viewBox=\"0 0 24 24\"\n",
              "       width=\"24px\">\n",
              "    <path d=\"M0 0h24v24H0V0z\" fill=\"none\"/>\n",
              "    <path d=\"M18.56 5.44l.94 2.06.94-2.06 2.06-.94-2.06-.94-.94-2.06-.94 2.06-2.06.94zm-11 1L8.5 8.5l.94-2.06 2.06-.94-2.06-.94L8.5 2.5l-.94 2.06-2.06.94zm10 10l.94 2.06.94-2.06 2.06-.94-2.06-.94-.94-2.06-.94 2.06-2.06.94z\"/><path d=\"M17.41 7.96l-1.37-1.37c-.4-.4-.92-.59-1.43-.59-.52 0-1.04.2-1.43.59L10.3 9.45l-7.72 7.72c-.78.78-.78 2.05 0 2.83L4 21.41c.39.39.9.59 1.41.59.51 0 1.02-.2 1.41-.59l7.78-7.78 2.81-2.81c.8-.78.8-2.07 0-2.86zM5.41 20L4 18.59l7.72-7.72 1.47 1.35L5.41 20z\"/>\n",
              "  </svg>\n",
              "      </button>\n",
              "      \n",
              "  <style>\n",
              "    .colab-df-container {\n",
              "      display:flex;\n",
              "      flex-wrap:wrap;\n",
              "      gap: 12px;\n",
              "    }\n",
              "\n",
              "    .colab-df-convert {\n",
              "      background-color: #E8F0FE;\n",
              "      border: none;\n",
              "      border-radius: 50%;\n",
              "      cursor: pointer;\n",
              "      display: none;\n",
              "      fill: #1967D2;\n",
              "      height: 32px;\n",
              "      padding: 0 0 0 0;\n",
              "      width: 32px;\n",
              "    }\n",
              "\n",
              "    .colab-df-convert:hover {\n",
              "      background-color: #E2EBFA;\n",
              "      box-shadow: 0px 1px 2px rgba(60, 64, 67, 0.3), 0px 1px 3px 1px rgba(60, 64, 67, 0.15);\n",
              "      fill: #174EA6;\n",
              "    }\n",
              "\n",
              "    [theme=dark] .colab-df-convert {\n",
              "      background-color: #3B4455;\n",
              "      fill: #D2E3FC;\n",
              "    }\n",
              "\n",
              "    [theme=dark] .colab-df-convert:hover {\n",
              "      background-color: #434B5C;\n",
              "      box-shadow: 0px 1px 3px 1px rgba(0, 0, 0, 0.15);\n",
              "      filter: drop-shadow(0px 1px 2px rgba(0, 0, 0, 0.3));\n",
              "      fill: #FFFFFF;\n",
              "    }\n",
              "  </style>\n",
              "\n",
              "      <script>\n",
              "        const buttonEl =\n",
              "          document.querySelector('#df-cf6efd1d-4c6a-4ee4-bd86-f6d78c81b909 button.colab-df-convert');\n",
              "        buttonEl.style.display =\n",
              "          google.colab.kernel.accessAllowed ? 'block' : 'none';\n",
              "\n",
              "        async function convertToInteractive(key) {\n",
              "          const element = document.querySelector('#df-cf6efd1d-4c6a-4ee4-bd86-f6d78c81b909');\n",
              "          const dataTable =\n",
              "            await google.colab.kernel.invokeFunction('convertToInteractive',\n",
              "                                                     [key], {});\n",
              "          if (!dataTable) return;\n",
              "\n",
              "          const docLinkHtml = 'Like what you see? Visit the ' +\n",
              "            '<a target=\"_blank\" href=https://colab.research.google.com/notebooks/data_table.ipynb>data table notebook</a>'\n",
              "            + ' to learn more about interactive tables.';\n",
              "          element.innerHTML = '';\n",
              "          dataTable['output_type'] = 'display_data';\n",
              "          await google.colab.output.renderOutput(dataTable, element);\n",
              "          const docLink = document.createElement('div');\n",
              "          docLink.innerHTML = docLinkHtml;\n",
              "          element.appendChild(docLink);\n",
              "        }\n",
              "      </script>\n",
              "    </div>\n",
              "  </div>\n",
              "  "
            ]
          },
          "metadata": {},
          "execution_count": 4
        }
      ]
    },
    {
      "cell_type": "code",
      "source": [
        "df['Element'].value_counts()"
      ],
      "metadata": {
        "colab": {
          "base_uri": "https://localhost:8080/"
        },
        "id": "Zp6kma0a62Yv",
        "outputId": "7432fe15-5faf-43d7-b2c1-4cfca23c362a"
      },
      "execution_count": 5,
      "outputs": [
        {
          "output_type": "execute_result",
          "data": {
            "text/plain": [
              "Domestic supply quantity                  5295\n",
              "Import Quantity                           5139\n",
              "Protein supply quantity (g/capita/day)    5023\n",
              "Fat supply quantity (g/capita/day)        5023\n",
              "Food supply (kcal/capita/day)             5014\n",
              "Food                                      4941\n",
              "Food supply quantity (kg/capita/yr)       4905\n",
              "Residuals                                 4655\n",
              "Export Quantity                           4403\n",
              "Stock Variation                           4232\n",
              "Production                                3881\n",
              "Processing                                2010\n",
              "Losses                                    2009\n",
              "Other uses (non-food)                     1732\n",
              "Feed                                      1319\n",
              "Seed                                       762\n",
              "Tourist consumption                        555\n",
              "Total Population - Both sexes               45\n",
              "Name: Element, dtype: int64"
            ]
          },
          "metadata": {},
          "execution_count": 5
        }
      ]
    },
    {
      "cell_type": "code",
      "source": [
        "#12. What is the mean and standard deviation across the whole dataset for the year 2015 to 3 decimal places?\n",
        "round(df['Y2015'].mean(),3)"
      ],
      "metadata": {
        "colab": {
          "base_uri": "https://localhost:8080/"
        },
        "id": "trQ5uy2I9PVX",
        "outputId": "9bd65e4a-84e2-424e-dabf-fc779ab5c0fe"
      },
      "execution_count": 6,
      "outputs": [
        {
          "output_type": "execute_result",
          "data": {
            "text/plain": [
              "135.236"
            ]
          },
          "metadata": {},
          "execution_count": 6
        }
      ]
    },
    {
      "cell_type": "code",
      "source": [
        "round(df['Y2015'].std(axis = 0),3)"
      ],
      "metadata": {
        "colab": {
          "base_uri": "https://localhost:8080/"
        },
        "id": "haC7RNE5-Kcg",
        "outputId": "76029c8b-31fd-4cc5-9654-0f11c8d67675"
      },
      "execution_count": 7,
      "outputs": [
        {
          "output_type": "execute_result",
          "data": {
            "text/plain": [
              "1603.404"
            ]
          },
          "metadata": {},
          "execution_count": 7
        }
      ]
    },
    {
      "cell_type": "code",
      "source": [
        "#13. What is the total number and percentage of missing data in 2016 to 2 decimal places?\n",
        "df['Y2016'].isnull().sum()"
      ],
      "metadata": {
        "colab": {
          "base_uri": "https://localhost:8080/"
        },
        "id": "Slm_NoeoA7vq",
        "outputId": "a024d4ae-dc80-4cf3-d41a-5bd80aea5381"
      },
      "execution_count": 8,
      "outputs": [
        {
          "output_type": "execute_result",
          "data": {
            "text/plain": [
              "1535"
            ]
          },
          "metadata": {},
          "execution_count": 8
        }
      ]
    },
    {
      "cell_type": "code",
      "source": [
        "round(((df['Y2016'].isnull().sum())*100)/len(df),2)"
      ],
      "metadata": {
        "colab": {
          "base_uri": "https://localhost:8080/"
        },
        "id": "oaf9-foj94t4",
        "outputId": "d1116087-da7e-4e32-a9b6-7cd28dc2db02"
      },
      "execution_count": 9,
      "outputs": [
        {
          "output_type": "execute_result",
          "data": {
            "text/plain": [
              "2.52"
            ]
          },
          "metadata": {},
          "execution_count": 9
        }
      ]
    },
    {
      "cell_type": "code",
      "source": [
        "#14 \n",
        "df1=df[['Element Code','Y2014','Y2015','Y2016','Y2017','Y2018']]"
      ],
      "metadata": {
        "id": "PEAK5PW2-GRE"
      },
      "execution_count": 10,
      "outputs": []
    },
    {
      "cell_type": "code",
      "source": [
        "df['Area'].nunique()"
      ],
      "metadata": {
        "colab": {
          "base_uri": "https://localhost:8080/"
        },
        "id": "5XrCz1sUDWv8",
        "outputId": "28dfe3d9-2e2c-47bc-8a3a-85d08a1e4433"
      },
      "execution_count": 11,
      "outputs": [
        {
          "output_type": "execute_result",
          "data": {
            "text/plain": [
              "49"
            ]
          },
          "metadata": {},
          "execution_count": 11
        }
      ]
    },
    {
      "cell_type": "code",
      "source": [
        "df1.corr()"
      ],
      "metadata": {
        "colab": {
          "base_uri": "https://localhost:8080/",
          "height": 238
        },
        "id": "IBciojDEDrXU",
        "outputId": "e6049da4-8eaf-4e71-d024-cfa10f393a1c"
      },
      "execution_count": 12,
      "outputs": [
        {
          "output_type": "execute_result",
          "data": {
            "text/plain": [
              "              Element Code     Y2014     Y2015     Y2016     Y2017     Y2018\n",
              "Element Code      1.000000  0.024457  0.023889  0.023444  0.024254  0.024279\n",
              "Y2014             0.024457  1.000000  0.994647  0.996081  0.995230  0.994872\n",
              "Y2015             0.023889  0.994647  1.000000  0.995739  0.988048  0.988208\n",
              "Y2016             0.023444  0.996081  0.995739  1.000000  0.992785  0.992757\n",
              "Y2017             0.024254  0.995230  0.988048  0.992785  1.000000  0.998103\n",
              "Y2018             0.024279  0.994872  0.988208  0.992757  0.998103  1.000000"
            ],
            "text/html": [
              "\n",
              "  <div id=\"df-e8a1766f-16a3-4ba0-86ec-5a87824e1c87\">\n",
              "    <div class=\"colab-df-container\">\n",
              "      <div>\n",
              "<style scoped>\n",
              "    .dataframe tbody tr th:only-of-type {\n",
              "        vertical-align: middle;\n",
              "    }\n",
              "\n",
              "    .dataframe tbody tr th {\n",
              "        vertical-align: top;\n",
              "    }\n",
              "\n",
              "    .dataframe thead th {\n",
              "        text-align: right;\n",
              "    }\n",
              "</style>\n",
              "<table border=\"1\" class=\"dataframe\">\n",
              "  <thead>\n",
              "    <tr style=\"text-align: right;\">\n",
              "      <th></th>\n",
              "      <th>Element Code</th>\n",
              "      <th>Y2014</th>\n",
              "      <th>Y2015</th>\n",
              "      <th>Y2016</th>\n",
              "      <th>Y2017</th>\n",
              "      <th>Y2018</th>\n",
              "    </tr>\n",
              "  </thead>\n",
              "  <tbody>\n",
              "    <tr>\n",
              "      <th>Element Code</th>\n",
              "      <td>1.000000</td>\n",
              "      <td>0.024457</td>\n",
              "      <td>0.023889</td>\n",
              "      <td>0.023444</td>\n",
              "      <td>0.024254</td>\n",
              "      <td>0.024279</td>\n",
              "    </tr>\n",
              "    <tr>\n",
              "      <th>Y2014</th>\n",
              "      <td>0.024457</td>\n",
              "      <td>1.000000</td>\n",
              "      <td>0.994647</td>\n",
              "      <td>0.996081</td>\n",
              "      <td>0.995230</td>\n",
              "      <td>0.994872</td>\n",
              "    </tr>\n",
              "    <tr>\n",
              "      <th>Y2015</th>\n",
              "      <td>0.023889</td>\n",
              "      <td>0.994647</td>\n",
              "      <td>1.000000</td>\n",
              "      <td>0.995739</td>\n",
              "      <td>0.988048</td>\n",
              "      <td>0.988208</td>\n",
              "    </tr>\n",
              "    <tr>\n",
              "      <th>Y2016</th>\n",
              "      <td>0.023444</td>\n",
              "      <td>0.996081</td>\n",
              "      <td>0.995739</td>\n",
              "      <td>1.000000</td>\n",
              "      <td>0.992785</td>\n",
              "      <td>0.992757</td>\n",
              "    </tr>\n",
              "    <tr>\n",
              "      <th>Y2017</th>\n",
              "      <td>0.024254</td>\n",
              "      <td>0.995230</td>\n",
              "      <td>0.988048</td>\n",
              "      <td>0.992785</td>\n",
              "      <td>1.000000</td>\n",
              "      <td>0.998103</td>\n",
              "    </tr>\n",
              "    <tr>\n",
              "      <th>Y2018</th>\n",
              "      <td>0.024279</td>\n",
              "      <td>0.994872</td>\n",
              "      <td>0.988208</td>\n",
              "      <td>0.992757</td>\n",
              "      <td>0.998103</td>\n",
              "      <td>1.000000</td>\n",
              "    </tr>\n",
              "  </tbody>\n",
              "</table>\n",
              "</div>\n",
              "      <button class=\"colab-df-convert\" onclick=\"convertToInteractive('df-e8a1766f-16a3-4ba0-86ec-5a87824e1c87')\"\n",
              "              title=\"Convert this dataframe to an interactive table.\"\n",
              "              style=\"display:none;\">\n",
              "        \n",
              "  <svg xmlns=\"http://www.w3.org/2000/svg\" height=\"24px\"viewBox=\"0 0 24 24\"\n",
              "       width=\"24px\">\n",
              "    <path d=\"M0 0h24v24H0V0z\" fill=\"none\"/>\n",
              "    <path d=\"M18.56 5.44l.94 2.06.94-2.06 2.06-.94-2.06-.94-.94-2.06-.94 2.06-2.06.94zm-11 1L8.5 8.5l.94-2.06 2.06-.94-2.06-.94L8.5 2.5l-.94 2.06-2.06.94zm10 10l.94 2.06.94-2.06 2.06-.94-2.06-.94-.94-2.06-.94 2.06-2.06.94z\"/><path d=\"M17.41 7.96l-1.37-1.37c-.4-.4-.92-.59-1.43-.59-.52 0-1.04.2-1.43.59L10.3 9.45l-7.72 7.72c-.78.78-.78 2.05 0 2.83L4 21.41c.39.39.9.59 1.41.59.51 0 1.02-.2 1.41-.59l7.78-7.78 2.81-2.81c.8-.78.8-2.07 0-2.86zM5.41 20L4 18.59l7.72-7.72 1.47 1.35L5.41 20z\"/>\n",
              "  </svg>\n",
              "      </button>\n",
              "      \n",
              "  <style>\n",
              "    .colab-df-container {\n",
              "      display:flex;\n",
              "      flex-wrap:wrap;\n",
              "      gap: 12px;\n",
              "    }\n",
              "\n",
              "    .colab-df-convert {\n",
              "      background-color: #E8F0FE;\n",
              "      border: none;\n",
              "      border-radius: 50%;\n",
              "      cursor: pointer;\n",
              "      display: none;\n",
              "      fill: #1967D2;\n",
              "      height: 32px;\n",
              "      padding: 0 0 0 0;\n",
              "      width: 32px;\n",
              "    }\n",
              "\n",
              "    .colab-df-convert:hover {\n",
              "      background-color: #E2EBFA;\n",
              "      box-shadow: 0px 1px 2px rgba(60, 64, 67, 0.3), 0px 1px 3px 1px rgba(60, 64, 67, 0.15);\n",
              "      fill: #174EA6;\n",
              "    }\n",
              "\n",
              "    [theme=dark] .colab-df-convert {\n",
              "      background-color: #3B4455;\n",
              "      fill: #D2E3FC;\n",
              "    }\n",
              "\n",
              "    [theme=dark] .colab-df-convert:hover {\n",
              "      background-color: #434B5C;\n",
              "      box-shadow: 0px 1px 3px 1px rgba(0, 0, 0, 0.15);\n",
              "      filter: drop-shadow(0px 1px 2px rgba(0, 0, 0, 0.3));\n",
              "      fill: #FFFFFF;\n",
              "    }\n",
              "  </style>\n",
              "\n",
              "      <script>\n",
              "        const buttonEl =\n",
              "          document.querySelector('#df-e8a1766f-16a3-4ba0-86ec-5a87824e1c87 button.colab-df-convert');\n",
              "        buttonEl.style.display =\n",
              "          google.colab.kernel.accessAllowed ? 'block' : 'none';\n",
              "\n",
              "        async function convertToInteractive(key) {\n",
              "          const element = document.querySelector('#df-e8a1766f-16a3-4ba0-86ec-5a87824e1c87');\n",
              "          const dataTable =\n",
              "            await google.colab.kernel.invokeFunction('convertToInteractive',\n",
              "                                                     [key], {});\n",
              "          if (!dataTable) return;\n",
              "\n",
              "          const docLinkHtml = 'Like what you see? Visit the ' +\n",
              "            '<a target=\"_blank\" href=https://colab.research.google.com/notebooks/data_table.ipynb>data table notebook</a>'\n",
              "            + ' to learn more about interactive tables.';\n",
              "          element.innerHTML = '';\n",
              "          dataTable['output_type'] = 'display_data';\n",
              "          await google.colab.output.renderOutput(dataTable, element);\n",
              "          const docLink = document.createElement('div');\n",
              "          docLink.innerHTML = docLinkHtml;\n",
              "          element.appendChild(docLink);\n",
              "        }\n",
              "      </script>\n",
              "    </div>\n",
              "  </div>\n",
              "  "
            ]
          },
          "metadata": {},
          "execution_count": 12
        }
      ]
    },
    {
      "cell_type": "code",
      "source": [
        "df.groupby('Element')['Element'].count()"
      ],
      "metadata": {
        "colab": {
          "base_uri": "https://localhost:8080/"
        },
        "id": "Ik8-wcDGElwX",
        "outputId": "60b31e21-d787-4f2b-b322-48b8683f8036"
      },
      "execution_count": 17,
      "outputs": [
        {
          "output_type": "execute_result",
          "data": {
            "text/plain": [
              "Element\n",
              "Domestic supply quantity                  5295\n",
              "Export Quantity                           4403\n",
              "Fat supply quantity (g/capita/day)        5023\n",
              "Feed                                      1319\n",
              "Food                                      4941\n",
              "Food supply (kcal/capita/day)             5014\n",
              "Food supply quantity (kg/capita/yr)       4905\n",
              "Import Quantity                           5139\n",
              "Losses                                    2009\n",
              "Other uses (non-food)                     1732\n",
              "Processing                                2010\n",
              "Production                                3881\n",
              "Protein supply quantity (g/capita/day)    5023\n",
              "Residuals                                 4655\n",
              "Seed                                       762\n",
              "Stock Variation                           4232\n",
              "Total Population - Both sexes               45\n",
              "Tourist consumption                        555\n",
              "Name: Element, dtype: int64"
            ]
          },
          "metadata": {},
          "execution_count": 17
        }
      ]
    },
    {
      "cell_type": "code",
      "source": [
        ""
      ],
      "metadata": {
        "id": "f65bDG3-F5Rd"
      },
      "execution_count": null,
      "outputs": []
    }
  ]
}